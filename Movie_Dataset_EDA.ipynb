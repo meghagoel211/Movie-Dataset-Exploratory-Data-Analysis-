{
  "nbformat": 4,
  "nbformat_minor": 0,
  "metadata": {
    "colab": {
      "name": "Movie Dataset EDA.ipynb",
      "provenance": [],
      "collapsed_sections": [],
      "authorship_tag": "ABX9TyMLowHBUd8gn7ljnJH5D1Iw",
      "include_colab_link": true
    },
    "kernelspec": {
      "name": "python3",
      "display_name": "Python 3"
    }
  },
  "cells": [
    {
      "cell_type": "markdown",
      "metadata": {
        "id": "view-in-github",
        "colab_type": "text"
      },
      "source": [
        "<a href=\"https://colab.research.google.com/github/meghagoel211/Movie-Dataset-Exploratory-Data-Analysis-/blob/master/Movie_Dataset_EDA.ipynb\" target=\"_parent\"><img src=\"https://colab.research.google.com/assets/colab-badge.svg\" alt=\"Open In Colab\"/></a>"
      ]
    },
    {
      "cell_type": "code",
      "metadata": {
        "id": "KZIpJrpZbtqY",
        "colab_type": "code",
        "colab": {}
      },
      "source": [
        "import pandas as pd\n",
        "import numpy as np\n",
        "import seaborn as sns"
      ],
      "execution_count": 33,
      "outputs": []
    },
    {
      "cell_type": "code",
      "metadata": {
        "id": "qHEg967vcsB4",
        "colab_type": "code",
        "colab": {}
      },
      "source": [
        "data = pd.read_csv(\"/1000 movies data.csv.txt\")"
      ],
      "execution_count": 34,
      "outputs": []
    },
    {
      "cell_type": "code",
      "metadata": {
        "id": "jzCnYjhRdMXQ",
        "colab_type": "code",
        "colab": {
          "base_uri": "https://localhost:8080/",
          "height": 296
        },
        "outputId": "315708c8-a9b3-40d2-98c4-b3bf2173db8d"
      },
      "source": [
        "data.head()"
      ],
      "execution_count": 35,
      "outputs": [
        {
          "output_type": "execute_result",
          "data": {
            "text/html": [
              "<div>\n",
              "<style scoped>\n",
              "    .dataframe tbody tr th:only-of-type {\n",
              "        vertical-align: middle;\n",
              "    }\n",
              "\n",
              "    .dataframe tbody tr th {\n",
              "        vertical-align: top;\n",
              "    }\n",
              "\n",
              "    .dataframe thead th {\n",
              "        text-align: right;\n",
              "    }\n",
              "</style>\n",
              "<table border=\"1\" class=\"dataframe\">\n",
              "  <thead>\n",
              "    <tr style=\"text-align: right;\">\n",
              "      <th></th>\n",
              "      <th>Rank</th>\n",
              "      <th>Title</th>\n",
              "      <th>Genre</th>\n",
              "      <th>Description</th>\n",
              "      <th>Director</th>\n",
              "      <th>Actors</th>\n",
              "      <th>Year</th>\n",
              "      <th>Runtime (Minutes)</th>\n",
              "      <th>Rating</th>\n",
              "      <th>Votes</th>\n",
              "      <th>Revenue (Millions)</th>\n",
              "      <th>Metascore</th>\n",
              "    </tr>\n",
              "  </thead>\n",
              "  <tbody>\n",
              "    <tr>\n",
              "      <th>0</th>\n",
              "      <td>1</td>\n",
              "      <td>Guardians of the Galaxy</td>\n",
              "      <td>Action,Adventure,Sci-Fi</td>\n",
              "      <td>A group of intergalactic criminals are forced ...</td>\n",
              "      <td>James Gunn</td>\n",
              "      <td>Chris Pratt, Vin Diesel, Bradley Cooper, Zoe S...</td>\n",
              "      <td>2014</td>\n",
              "      <td>121</td>\n",
              "      <td>8.1</td>\n",
              "      <td>757074</td>\n",
              "      <td>333.13</td>\n",
              "      <td>76.0</td>\n",
              "    </tr>\n",
              "    <tr>\n",
              "      <th>1</th>\n",
              "      <td>2</td>\n",
              "      <td>Prometheus</td>\n",
              "      <td>Adventure,Mystery,Sci-Fi</td>\n",
              "      <td>Following clues to the origin of mankind, a te...</td>\n",
              "      <td>Ridley Scott</td>\n",
              "      <td>Noomi Rapace, Logan Marshall-Green, Michael Fa...</td>\n",
              "      <td>2012</td>\n",
              "      <td>124</td>\n",
              "      <td>7.0</td>\n",
              "      <td>485820</td>\n",
              "      <td>126.46</td>\n",
              "      <td>65.0</td>\n",
              "    </tr>\n",
              "    <tr>\n",
              "      <th>2</th>\n",
              "      <td>3</td>\n",
              "      <td>Split</td>\n",
              "      <td>Horror,Thriller</td>\n",
              "      <td>Three girls are kidnapped by a man with a diag...</td>\n",
              "      <td>M. Night Shyamalan</td>\n",
              "      <td>James McAvoy, Anya Taylor-Joy, Haley Lu Richar...</td>\n",
              "      <td>2016</td>\n",
              "      <td>117</td>\n",
              "      <td>7.3</td>\n",
              "      <td>157606</td>\n",
              "      <td>138.12</td>\n",
              "      <td>62.0</td>\n",
              "    </tr>\n",
              "    <tr>\n",
              "      <th>3</th>\n",
              "      <td>4</td>\n",
              "      <td>Sing</td>\n",
              "      <td>Animation,Comedy,Family</td>\n",
              "      <td>In a city of humanoid animals, a hustling thea...</td>\n",
              "      <td>Christophe Lourdelet</td>\n",
              "      <td>Matthew McConaughey,Reese Witherspoon, Seth Ma...</td>\n",
              "      <td>2016</td>\n",
              "      <td>108</td>\n",
              "      <td>7.2</td>\n",
              "      <td>60545</td>\n",
              "      <td>270.32</td>\n",
              "      <td>59.0</td>\n",
              "    </tr>\n",
              "    <tr>\n",
              "      <th>4</th>\n",
              "      <td>5</td>\n",
              "      <td>Suicide Squad</td>\n",
              "      <td>Action,Adventure,Fantasy</td>\n",
              "      <td>A secret government agency recruits some of th...</td>\n",
              "      <td>David Ayer</td>\n",
              "      <td>Will Smith, Jared Leto, Margot Robbie, Viola D...</td>\n",
              "      <td>2016</td>\n",
              "      <td>123</td>\n",
              "      <td>6.2</td>\n",
              "      <td>393727</td>\n",
              "      <td>325.02</td>\n",
              "      <td>40.0</td>\n",
              "    </tr>\n",
              "  </tbody>\n",
              "</table>\n",
              "</div>"
            ],
            "text/plain": [
              "   Rank                    Title  ... Revenue (Millions) Metascore\n",
              "0     1  Guardians of the Galaxy  ...             333.13      76.0\n",
              "1     2               Prometheus  ...             126.46      65.0\n",
              "2     3                    Split  ...             138.12      62.0\n",
              "3     4                     Sing  ...             270.32      59.0\n",
              "4     5            Suicide Squad  ...             325.02      40.0\n",
              "\n",
              "[5 rows x 12 columns]"
            ]
          },
          "metadata": {
            "tags": []
          },
          "execution_count": 35
        }
      ]
    },
    {
      "cell_type": "markdown",
      "metadata": {
        "id": "wSbg_cueFyvy",
        "colab_type": "text"
      },
      "source": [
        "# New section"
      ]
    },
    {
      "cell_type": "code",
      "metadata": {
        "id": "1XFlauSHdXDY",
        "colab_type": "code",
        "colab": {
          "base_uri": "https://localhost:8080/",
          "height": 296
        },
        "outputId": "9ede9030-2d26-48e4-da04-39003c25cf06"
      },
      "source": [
        "data.tail()"
      ],
      "execution_count": 36,
      "outputs": [
        {
          "output_type": "execute_result",
          "data": {
            "text/html": [
              "<div>\n",
              "<style scoped>\n",
              "    .dataframe tbody tr th:only-of-type {\n",
              "        vertical-align: middle;\n",
              "    }\n",
              "\n",
              "    .dataframe tbody tr th {\n",
              "        vertical-align: top;\n",
              "    }\n",
              "\n",
              "    .dataframe thead th {\n",
              "        text-align: right;\n",
              "    }\n",
              "</style>\n",
              "<table border=\"1\" class=\"dataframe\">\n",
              "  <thead>\n",
              "    <tr style=\"text-align: right;\">\n",
              "      <th></th>\n",
              "      <th>Rank</th>\n",
              "      <th>Title</th>\n",
              "      <th>Genre</th>\n",
              "      <th>Description</th>\n",
              "      <th>Director</th>\n",
              "      <th>Actors</th>\n",
              "      <th>Year</th>\n",
              "      <th>Runtime (Minutes)</th>\n",
              "      <th>Rating</th>\n",
              "      <th>Votes</th>\n",
              "      <th>Revenue (Millions)</th>\n",
              "      <th>Metascore</th>\n",
              "    </tr>\n",
              "  </thead>\n",
              "  <tbody>\n",
              "    <tr>\n",
              "      <th>995</th>\n",
              "      <td>996</td>\n",
              "      <td>Secret in Their Eyes</td>\n",
              "      <td>Crime,Drama,Mystery</td>\n",
              "      <td>A tight-knit team of rising investigators, alo...</td>\n",
              "      <td>Billy Ray</td>\n",
              "      <td>Chiwetel Ejiofor, Nicole Kidman, Julia Roberts...</td>\n",
              "      <td>2015</td>\n",
              "      <td>111</td>\n",
              "      <td>6.2</td>\n",
              "      <td>27585</td>\n",
              "      <td>NaN</td>\n",
              "      <td>45.0</td>\n",
              "    </tr>\n",
              "    <tr>\n",
              "      <th>996</th>\n",
              "      <td>997</td>\n",
              "      <td>Hostel: Part II</td>\n",
              "      <td>Horror</td>\n",
              "      <td>Three American college students studying abroa...</td>\n",
              "      <td>Eli Roth</td>\n",
              "      <td>Lauren German, Heather Matarazzo, Bijou Philli...</td>\n",
              "      <td>2007</td>\n",
              "      <td>94</td>\n",
              "      <td>5.5</td>\n",
              "      <td>73152</td>\n",
              "      <td>17.54</td>\n",
              "      <td>46.0</td>\n",
              "    </tr>\n",
              "    <tr>\n",
              "      <th>997</th>\n",
              "      <td>998</td>\n",
              "      <td>Step Up 2: The Streets</td>\n",
              "      <td>Drama,Music,Romance</td>\n",
              "      <td>Romantic sparks occur between two dance studen...</td>\n",
              "      <td>Jon M. Chu</td>\n",
              "      <td>Robert Hoffman, Briana Evigan, Cassie Ventura,...</td>\n",
              "      <td>2008</td>\n",
              "      <td>98</td>\n",
              "      <td>6.2</td>\n",
              "      <td>70699</td>\n",
              "      <td>58.01</td>\n",
              "      <td>50.0</td>\n",
              "    </tr>\n",
              "    <tr>\n",
              "      <th>998</th>\n",
              "      <td>999</td>\n",
              "      <td>Search Party</td>\n",
              "      <td>Adventure,Comedy</td>\n",
              "      <td>A pair of friends embark on a mission to reuni...</td>\n",
              "      <td>Scot Armstrong</td>\n",
              "      <td>Adam Pally, T.J. Miller, Thomas Middleditch,Sh...</td>\n",
              "      <td>2014</td>\n",
              "      <td>93</td>\n",
              "      <td>5.6</td>\n",
              "      <td>4881</td>\n",
              "      <td>NaN</td>\n",
              "      <td>22.0</td>\n",
              "    </tr>\n",
              "    <tr>\n",
              "      <th>999</th>\n",
              "      <td>1000</td>\n",
              "      <td>Nine Lives</td>\n",
              "      <td>Comedy,Family,Fantasy</td>\n",
              "      <td>A stuffy businessman finds himself trapped ins...</td>\n",
              "      <td>Barry Sonnenfeld</td>\n",
              "      <td>Kevin Spacey, Jennifer Garner, Robbie Amell,Ch...</td>\n",
              "      <td>2016</td>\n",
              "      <td>87</td>\n",
              "      <td>5.3</td>\n",
              "      <td>12435</td>\n",
              "      <td>19.64</td>\n",
              "      <td>11.0</td>\n",
              "    </tr>\n",
              "  </tbody>\n",
              "</table>\n",
              "</div>"
            ],
            "text/plain": [
              "     Rank                   Title  ... Revenue (Millions) Metascore\n",
              "995   996    Secret in Their Eyes  ...                NaN      45.0\n",
              "996   997         Hostel: Part II  ...              17.54      46.0\n",
              "997   998  Step Up 2: The Streets  ...              58.01      50.0\n",
              "998   999            Search Party  ...                NaN      22.0\n",
              "999  1000              Nine Lives  ...              19.64      11.0\n",
              "\n",
              "[5 rows x 12 columns]"
            ]
          },
          "metadata": {
            "tags": []
          },
          "execution_count": 36
        }
      ]
    },
    {
      "cell_type": "code",
      "metadata": {
        "id": "1F2fIr9udpmc",
        "colab_type": "code",
        "colab": {
          "base_uri": "https://localhost:8080/",
          "height": 34
        },
        "outputId": "e61ea36e-5e62-47a1-a1a6-0d3727f5acd7"
      },
      "source": [
        "data.shape"
      ],
      "execution_count": 37,
      "outputs": [
        {
          "output_type": "execute_result",
          "data": {
            "text/plain": [
              "(1000, 12)"
            ]
          },
          "metadata": {
            "tags": []
          },
          "execution_count": 37
        }
      ]
    },
    {
      "cell_type": "code",
      "metadata": {
        "id": "hQhzKfbfdzU0",
        "colab_type": "code",
        "colab": {
          "base_uri": "https://localhost:8080/",
          "height": 284
        },
        "outputId": "c2ea6880-cb2a-4635-83e6-8a1badeca4cb"
      },
      "source": [
        "data.describe()"
      ],
      "execution_count": 38,
      "outputs": [
        {
          "output_type": "execute_result",
          "data": {
            "text/html": [
              "<div>\n",
              "<style scoped>\n",
              "    .dataframe tbody tr th:only-of-type {\n",
              "        vertical-align: middle;\n",
              "    }\n",
              "\n",
              "    .dataframe tbody tr th {\n",
              "        vertical-align: top;\n",
              "    }\n",
              "\n",
              "    .dataframe thead th {\n",
              "        text-align: right;\n",
              "    }\n",
              "</style>\n",
              "<table border=\"1\" class=\"dataframe\">\n",
              "  <thead>\n",
              "    <tr style=\"text-align: right;\">\n",
              "      <th></th>\n",
              "      <th>Rank</th>\n",
              "      <th>Year</th>\n",
              "      <th>Runtime (Minutes)</th>\n",
              "      <th>Rating</th>\n",
              "      <th>Votes</th>\n",
              "      <th>Revenue (Millions)</th>\n",
              "      <th>Metascore</th>\n",
              "    </tr>\n",
              "  </thead>\n",
              "  <tbody>\n",
              "    <tr>\n",
              "      <th>count</th>\n",
              "      <td>1000.000000</td>\n",
              "      <td>1000.000000</td>\n",
              "      <td>1000.000000</td>\n",
              "      <td>1000.000000</td>\n",
              "      <td>1.000000e+03</td>\n",
              "      <td>872.000000</td>\n",
              "      <td>936.000000</td>\n",
              "    </tr>\n",
              "    <tr>\n",
              "      <th>mean</th>\n",
              "      <td>500.500000</td>\n",
              "      <td>2012.783000</td>\n",
              "      <td>113.172000</td>\n",
              "      <td>6.723200</td>\n",
              "      <td>1.698083e+05</td>\n",
              "      <td>82.956376</td>\n",
              "      <td>58.985043</td>\n",
              "    </tr>\n",
              "    <tr>\n",
              "      <th>std</th>\n",
              "      <td>288.819436</td>\n",
              "      <td>3.205962</td>\n",
              "      <td>18.810908</td>\n",
              "      <td>0.945429</td>\n",
              "      <td>1.887626e+05</td>\n",
              "      <td>103.253540</td>\n",
              "      <td>17.194757</td>\n",
              "    </tr>\n",
              "    <tr>\n",
              "      <th>min</th>\n",
              "      <td>1.000000</td>\n",
              "      <td>2006.000000</td>\n",
              "      <td>66.000000</td>\n",
              "      <td>1.900000</td>\n",
              "      <td>6.100000e+01</td>\n",
              "      <td>0.000000</td>\n",
              "      <td>11.000000</td>\n",
              "    </tr>\n",
              "    <tr>\n",
              "      <th>25%</th>\n",
              "      <td>250.750000</td>\n",
              "      <td>2010.000000</td>\n",
              "      <td>100.000000</td>\n",
              "      <td>6.200000</td>\n",
              "      <td>3.630900e+04</td>\n",
              "      <td>13.270000</td>\n",
              "      <td>47.000000</td>\n",
              "    </tr>\n",
              "    <tr>\n",
              "      <th>50%</th>\n",
              "      <td>500.500000</td>\n",
              "      <td>2014.000000</td>\n",
              "      <td>111.000000</td>\n",
              "      <td>6.800000</td>\n",
              "      <td>1.107990e+05</td>\n",
              "      <td>47.985000</td>\n",
              "      <td>59.500000</td>\n",
              "    </tr>\n",
              "    <tr>\n",
              "      <th>75%</th>\n",
              "      <td>750.250000</td>\n",
              "      <td>2016.000000</td>\n",
              "      <td>123.000000</td>\n",
              "      <td>7.400000</td>\n",
              "      <td>2.399098e+05</td>\n",
              "      <td>113.715000</td>\n",
              "      <td>72.000000</td>\n",
              "    </tr>\n",
              "    <tr>\n",
              "      <th>max</th>\n",
              "      <td>1000.000000</td>\n",
              "      <td>2016.000000</td>\n",
              "      <td>191.000000</td>\n",
              "      <td>9.000000</td>\n",
              "      <td>1.791916e+06</td>\n",
              "      <td>936.630000</td>\n",
              "      <td>100.000000</td>\n",
              "    </tr>\n",
              "  </tbody>\n",
              "</table>\n",
              "</div>"
            ],
            "text/plain": [
              "              Rank         Year  ...  Revenue (Millions)   Metascore\n",
              "count  1000.000000  1000.000000  ...          872.000000  936.000000\n",
              "mean    500.500000  2012.783000  ...           82.956376   58.985043\n",
              "std     288.819436     3.205962  ...          103.253540   17.194757\n",
              "min       1.000000  2006.000000  ...            0.000000   11.000000\n",
              "25%     250.750000  2010.000000  ...           13.270000   47.000000\n",
              "50%     500.500000  2014.000000  ...           47.985000   59.500000\n",
              "75%     750.250000  2016.000000  ...          113.715000   72.000000\n",
              "max    1000.000000  2016.000000  ...          936.630000  100.000000\n",
              "\n",
              "[8 rows x 7 columns]"
            ]
          },
          "metadata": {
            "tags": []
          },
          "execution_count": 38
        }
      ]
    },
    {
      "cell_type": "code",
      "metadata": {
        "id": "lkY5TJk0d9aL",
        "colab_type": "code",
        "colab": {
          "base_uri": "https://localhost:8080/",
          "height": 84
        },
        "outputId": "d13a866d-7311-4e9d-a635-5767de886cde"
      },
      "source": [
        "data.columns"
      ],
      "execution_count": 39,
      "outputs": [
        {
          "output_type": "execute_result",
          "data": {
            "text/plain": [
              "Index(['Rank', 'Title', 'Genre', 'Description', 'Director', 'Actors', 'Year',\n",
              "       'Runtime (Minutes)', 'Rating', 'Votes', 'Revenue (Millions)',\n",
              "       'Metascore'],\n",
              "      dtype='object')"
            ]
          },
          "metadata": {
            "tags": []
          },
          "execution_count": 39
        }
      ]
    },
    {
      "cell_type": "code",
      "metadata": {
        "id": "n8a_B2eoePpY",
        "colab_type": "code",
        "colab": {
          "base_uri": "https://localhost:8080/",
          "height": 235
        },
        "outputId": "59003264-18ff-45da-bdad-f0cc7f68aa9a"
      },
      "source": [
        "data.nunique()"
      ],
      "execution_count": 40,
      "outputs": [
        {
          "output_type": "execute_result",
          "data": {
            "text/plain": [
              "Rank                  1000\n",
              "Title                  999\n",
              "Genre                  207\n",
              "Description           1000\n",
              "Director               644\n",
              "Actors                 996\n",
              "Year                    11\n",
              "Runtime (Minutes)       94\n",
              "Rating                  55\n",
              "Votes                  997\n",
              "Revenue (Millions)     814\n",
              "Metascore               84\n",
              "dtype: int64"
            ]
          },
          "metadata": {
            "tags": []
          },
          "execution_count": 40
        }
      ]
    },
    {
      "cell_type": "code",
      "metadata": {
        "id": "clESWrfGed7Z",
        "colab_type": "code",
        "colab": {
          "base_uri": "https://localhost:8080/",
          "height": 3175
        },
        "outputId": "ad6f11e0-f941-4029-e4ed-eb1782217522"
      },
      "source": [
        "data['Director'].unique()"
      ],
      "execution_count": 41,
      "outputs": [
        {
          "output_type": "execute_result",
          "data": {
            "text/plain": [
              "array(['James Gunn', 'Ridley Scott', 'M. Night Shyamalan',\n",
              "       'Christophe Lourdelet', 'David Ayer', 'Yimou Zhang',\n",
              "       'Damien Chazelle', 'Sean Foley', 'James Gray', 'Morten Tyldum',\n",
              "       'David Yates', 'Theodore Melfi', 'Gareth Edwards', 'Ron Clements',\n",
              "       'Nacho Vigalondo', 'Chris Renaud', 'Mel Gibson', 'Paul Greengrass',\n",
              "       'Garth Davis', 'Denis Villeneuve', 'Stephen Gaghan',\n",
              "       'Kenneth Lonergan', 'Ben Young', 'Walt Dohrn', 'Roland Emmerich',\n",
              "       'Dominique Abel', 'S.S. Rajamouli', 'Phillip Guzman', 'Jon Lucas',\n",
              "       'Justin Kurzel', 'John Hamburg', 'Tom Ford', 'Bryan Singer',\n",
              "       'Tim Miller', 'Paul W.S. Anderson', 'Anthony Russo',\n",
              "       'Christopher Nolan', 'Scott Derrickson', 'Antoine Fuqua',\n",
              "       'Patrick Read Johnson', 'Greg Tiernan', 'Barry Jenkins',\n",
              "       'Shawn Burkett', 'John Lee Hancock', 'Ricardo de Montreuil',\n",
              "       'Rob Marshall', 'John Madden', 'Scott Hicks', 'Justin Lin',\n",
              "       'Sean Penn', 'J.J. Abrams', 'Anna Foerster', 'Garry Marshall',\n",
              "       'Chad Stahelski', 'Martin Scorsese', 'Fede Alvarez',\n",
              "       'Thea Sharrock', 'Lone Scherfig', 'Clint Eastwood', 'Zack Snyder',\n",
              "       'André Øvredal', 'Tate Taylor', 'Sam Taylor-Johnson',\n",
              "       'Matthew Vaughn', 'Peter Berg', 'George Miller', 'Robin Swicord',\n",
              "       'Terry George', 'Robert Zemeckis', 'J.A. Bayona', 'David Frankel',\n",
              "       'Byron Howard', 'Gore Verbinski', 'Joss Whedon',\n",
              "       'Quentin Tarantino', 'Paul Feig', 'Matt Ross', 'David Fincher',\n",
              "       'James Wan', 'Colin Trevorrow', 'Ben Affleck', 'James Cameron',\n",
              "       \"Gavin O'Connor\", 'Duncan Jones', 'Todd Phillips', 'Shane Black',\n",
              "       'Makoto Shinkai', 'Jeremy Gillespie', 'Olivier Assayas',\n",
              "       'Brian Helgeland', 'Kenneth Branagh', 'Oriol Paulo', 'Guy Ritchie',\n",
              "       'David Mackenzie', 'Taylor Hackford', 'Katie Holmes',\n",
              "       'Alex Garland', 'Greg McLean', 'Steve McQueen',\n",
              "       'Ana Lily Amirpour', 'Josh Gordon', 'Nicolas Winding Refn',\n",
              "       'Nitesh Tiwari', 'Dan Trachtenberg', 'Andrew Stanton',\n",
              "       'Tim Burton', 'Neil Burger', 'Jake Szymanski', 'Todor Chapkanov',\n",
              "       'Jon Favreau', 'Michael Bay', 'Henry Joost', 'Phyllida Lloyd',\n",
              "       'Alejandro González Iñárritu', 'Denzel Washington',\n",
              "       'Jaume Collet-Serra', 'Derek Cianfrance', 'Ethan Coen',\n",
              "       'Baz Luhrmann', 'Martin Koolhoven', 'Thor Freudenthal',\n",
              "       'Adam McKay', 'Lenny Abrahamson', 'Chan-wook Park',\n",
              "       'Kelly Fremon Craig', 'Greg Mottola', 'Ron Howard',\n",
              "       'Steven Spielberg', 'Gary Ross', 'Elizabeth Wood', 'David Lynch',\n",
              "       'Colin Strause', 'Guillermo del Toro', 'Glenn Ficarra',\n",
              "       'Edgar Wright', 'Fabio Guaglione', 'Ben Wheatley', 'Edward Zwick',\n",
              "       'Martin Campbell', 'Catherine Hardwicke', 'Jon M. Chu',\n",
              "       'Simon Curtis', 'Sam Mendes', 'Dan Gilroy', 'Travis Knight',\n",
              "       'Jackson Stewart', 'Spike Jonze', 'Chris Buck', 'Brad Bird',\n",
              "       'Matt Reeves', 'Ben Stiller', 'Peyton Reed', 'Sharon Maguire',\n",
              "       'Robert Eggers', 'Mateo Gil', 'Asghar Farhadi', 'Gaspar Noé',\n",
              "       'Ang Lee', 'Judd Apatow', 'April Mullen', 'Tom McCarthy',\n",
              "       'Luke Scott', 'Joe Johnston', 'Akan Satayev',\n",
              "       'Rawson Marshall Thurber', 'Doug Liman', 'Oliver Stone',\n",
              "       'Robert Schwentke', 'Julia Ducournau', 'Jim Jarmusch',\n",
              "       'Colm McCarthy', 'Brad Peyton', 'Harmony Korine', 'Spike Lee',\n",
              "       'Alan Taylor', 'Alex Proyas', 'Chris Wedge', 'Liam Gavin',\n",
              "       'Ilya Naishuller', 'John Lasseter', 'David Robert Mitchell',\n",
              "       'Andrea Arnold', 'Yorgos Lanthimos', 'Nimród Antal',\n",
              "       'Robert Stromberg', 'Steven Shainberg', 'Andy Goddard',\n",
              "       'Christopher McQuarrie', 'Cedric Nicolas-Troyan',\n",
              "       'Stephen Chbosky', 'Pablo Larraín', 'D.J. Caruso', 'Wes Anderson',\n",
              "       'Andrew Niccol', 'Pete Docter', 'Ash Brannon', 'Chris Columbus',\n",
              "       'Tom Hooper', 'Alfonso Cuarón', 'Mike Mills', 'Olivier Nakache',\n",
              "       'Eleanor Coppola', 'F. Gary Gray', 'Marc Webb', 'Rupert Wyatt',\n",
              "       'David F. Sandberg', 'Joseph Cedar', 'Darren Aronofsky',\n",
              "       'Justin Simien', 'Lars von Trier', 'Dave Green', 'Eli Roth',\n",
              "       'Dan Mazer', 'Tom Tykwer', 'Gavin Hood', 'Jeffrey G. Hunt',\n",
              "       'Peter Jackson', 'Phil Lord', 'John Carney', 'Eric Summer',\n",
              "       'Joseph Kosinski', 'Richard Linklater', 'Louis Leterrier',\n",
              "       'Brett Ratner', 'Lana Wachowski', 'Jared Hess', 'Jalil Lespert',\n",
              "       'Sang-ho Yeon', 'Jason Moore', 'Nicholas Stoller', 'David Leveaux',\n",
              "       'Ross Katz', 'Mike Thurmeier', 'Brad Furman',\n",
              "       'Paul Thomas Anderson', 'Drew Goddard', 'Fred Wolf',\n",
              "       'Jim Field Smith', 'James Bobin', 'Gary Michael Schultz',\n",
              "       'Christian Ditter', 'Abdellatif Kechiche', 'Jennifer Kent',\n",
              "       'Bong Joon Ho', 'J Blakeson', 'Dan Berk', 'Anne Fletcher',\n",
              "       'So Yong Kim', 'Breck Eisner', 'Paul McGuigan',\n",
              "       'Roger Spottiswoode', 'Jeremy Saulnier', 'Michael Mann',\n",
              "       'Jean-Marc Vallée', 'Mike Flanagan', 'David O. Russell',\n",
              "       'Alexi Pappas', 'Josh Boone', 'Frank Coraci', 'Rian Johnson',\n",
              "       'David Lowery', 'Sam Raimi', 'Karyn Kusama', 'Woody Allen',\n",
              "       'William Oldroyd', 'Jocelyn Moorhouse', 'Sergei Bodrov',\n",
              "       'Hugo Gélin', 'James Marsh', 'Evan Goldberg', 'Richard Curtis',\n",
              "       'Jon Watts', 'Ruben Fleischer', 'Danny Boyle', 'Bill Condon',\n",
              "       'Alex Ranarivelo', 'Timur Bekmambetov', 'J.D. Dillard', 'Wes Ball',\n",
              "       'Ariel Vromen', 'Stephen Frears', 'Eran Creevy', 'Scott Cooper',\n",
              "       'Ryan Coogler', 'Dan Kwan', 'Patrick Hughes', 'Jemaine Clement',\n",
              "       'Baltasar Kormákur', 'James Mangold', 'Peter Atencio',\n",
              "       'Pierre Morel', 'Gillies MacKinnon', 'Dennis Dugan',\n",
              "       'Lee Toland Krieger', 'Peter Billingsley', 'Terry Jones',\n",
              "       'Steven Soderbergh', 'Kyle Balda', 'Rolfe Kanefsky',\n",
              "       'Pierre Coffin', 'Michael Hoffman', 'Kathryn Bigelow',\n",
              "       'Nathan Greno', 'Francis Lawrence', 'John Francis Daley',\n",
              "       'Elizabeth Banks', 'Dan Scanlon', 'Paul Verhoeven',\n",
              "       'Dennis Gansel', 'Kevin Smith', 'Mark Williams', 'Joe Wright',\n",
              "       'David Ross', 'Burr Steers', 'Noam Murro', 'Babak Najafi',\n",
              "       'Frank Miller', 'Srdjan Spasojevic', 'James DeMonaco',\n",
              "       'Rajkumar Hirani', 'Marc Forster', 'Corey Asraf', 'Jon S. Baird',\n",
              "       'George Tillman Jr.', 'Jeff Wadlow', 'Jeff Grace', 'John Crowley',\n",
              "       'Henry Selick', 'Michael J. Gallagher', 'Christophe Gans',\n",
              "       'Pete Travis', 'Taika Waititi', 'Don Hall', 'Kimberly Peirce',\n",
              "       'Christian Alvart', 'Thomas Vinterberg', 'Etan Cohen',\n",
              "       'William Brent Bell', 'Mick Jackson', 'Michael Spierig',\n",
              "       'Rob Letterman', 'Phillip Noyce', 'Neill Blomkamp',\n",
              "       'Sofia Coppola', 'Dexter Fletcher',\n",
              "       'Florian Henckel von Donnersmarck', 'Carles Torrens',\n",
              "       'Amber Tamblyn', 'John Hillcoat', 'Paolo Genovese', 'Clay Kaytis',\n",
              "       'Adam Shankman', 'Lasse Hallström', 'Jim Mickle', 'Albert Hughes',\n",
              "       'Ericson Core', 'Jonathan Glazer', 'Barry Sonnenfeld',\n",
              "       'Todd Haynes', 'Daniel Ragussis', 'Paolo Sorrentino',\n",
              "       'Jaco Van Dormael', 'Mark Herman', 'S. Craig Zahler',\n",
              "       'Gregory Jacobs', 'Will Gluck', 'Biyi Bandele', 'Sean Ellis',\n",
              "       'Andrey Kravchuk', 'David Schwimmer', 'George Nolfi',\n",
              "       'Tony Gilroy', 'Simon Verhoeven', 'Tony Scott', 'Luc Besson',\n",
              "       'Terence Davies', 'Scott Waugh', 'Steven Brill',\n",
              "       'Alexandros Avranas', 'Ewan McGregor', 'Roman Polanski',\n",
              "       'Nic Mathieu', 'Richard LaGravenese', 'Mora Stephens',\n",
              "       'Jeff Nichols', 'Mike Birbiglia', 'Philippe Falardeau',\n",
              "       'Ken Loach', 'Josh Trank', 'Stephen Fingleton',\n",
              "       'Florian Gallenberger', 'Rob Cohen', 'Joel Edgerton', 'Gary Shore',\n",
              "       'Mike Judge', 'Sylvester Stallone', 'Rich Moore', 'Rupert Sanders',\n",
              "       'Jason Reitman', 'Jodie Foster', 'Nick Cassavetes', 'Kevin Lima',\n",
              "       'Nancy Meyers', 'Jonathan Dayton', 'Ben Younger',\n",
              "       'Craig Gillespie', 'Andrew Jarecki', 'John Stockwell',\n",
              "       'Jake Kasdan', 'Kirk Jones', 'Bennett Miller',\n",
              "       'Mark Steven Johnson', 'Angelina Jolie', 'Tarsem Singh',\n",
              "       'Mark Andrews', 'Niels Arden Oplev', 'Anne Fontaine',\n",
              "       'Michaël R. Roskam', 'Andy Fickman', 'Sean Anders', 'Tom McGrath',\n",
              "       'Jean-François Richet', 'Ken Kwapis', 'Alessandro Carloni',\n",
              "       'Zackary Adler', 'John Butler', 'Debra Granik', 'Seth Gordon',\n",
              "       'Xavier Dolan', 'Maren Ade', 'Andrew Dominik',\n",
              "       'Joseph Gordon-Levitt', 'James Watkins', 'Joey Curtis',\n",
              "       'Paco Cabezas', 'Rick Famuyiwa', 'Måns Mårlind', 'Marcus Nispel',\n",
              "       'Olivier Megaton', 'Len Wiseman', 'Will Slocombe', 'Courtney Hunt',\n",
              "       'Shawn Levy', 'Michael Goi', 'Levan Gabriadze', 'Jon Hurwitz',\n",
              "       'Gabriele Muccino', 'Damián Szifron', 'François Ozon',\n",
              "       'John Wells', 'Jonathan Holbrook', 'Julia Leigh', 'Mark Waters',\n",
              "       'Afonso Poyart', 'Akiva Schaffer', 'Hope Dickson Leach',\n",
              "       'Jonathan Liebesman', 'David Cronenberg', 'Simon Stone',\n",
              "       'David Gordon Green', 'Jon Kasdan', 'Mia Hansen-Løve',\n",
              "       'Alejandro Amenábar', 'Seth MacFarlane', 'Atom Egoyan',\n",
              "       'Daniel Espinosa', 'John Michael McDonagh', 'Frank Darabont',\n",
              "       'Mikael Håfström', 'Ari Sandel', 'Jee-woon Kim', 'Lynne Ramsay',\n",
              "       'Whit Stillman', 'Harald Zwart', 'Lee Unkrich', 'Tomas Alfredson',\n",
              "       'Gauri Shinde', 'Michael Grandage', 'Jamie Linden', 'Mike Cahill',\n",
              "       'Caleb Vetter', 'Michael Haneke', 'Marcus Dunstan',\n",
              "       'John Krasinski', 'David Dobkin', 'Michael Dudok de Wit',\n",
              "       'Jorge R. Gutiérrez', 'Bobby Farrelly', 'Doug Ellin',\n",
              "       'Bryan Bertino', 'Adam Wingard', 'Joe Carnahan', 'Simon Aboud',\n",
              "       'Bruce Beresford', 'Oz Perkins', 'Terrence Malick', 'Ben Falcone',\n",
              "       'Jonathan Jakubowicz', 'Juan José Campanella', 'Max Joseph',\n",
              "       'Chris Stokes', 'Warren Beatty', 'Gregory Hoblit',\n",
              "       'Martin McDonagh', 'McG', 'Filip Renc', 'Ed Gass-Donnelly',\n",
              "       'Jamal Hill', 'Kirsten Sheridan', 'Jake Schreier', 'Walter Hill',\n",
              "       'Dean DeBlois', 'Rob Zombie', 'Tyler Shields', 'Hisonni Johnson',\n",
              "       'Matt Brown', 'Bruce A. Evans', 'Adam Leon', 'Chris Evans',\n",
              "       'Jim Sheridan', 'Stewart Hendler', 'Genndy Tartakovsky',\n",
              "       'Claude Barras', 'Asger Leth', 'Ivan Reitman', 'Werner Herzog',\n",
              "       'Scott Frank', 'Mike Newell', 'James Ponsoldt', 'Amma Asante',\n",
              "       'Mario Van Peebles', 'François Simard', 'Andrés Muschietti',\n",
              "       'John Moore', 'John R. Leonetti', 'Saul Dibb', 'Terry Gilliam',\n",
              "       'Stephen Sommers', 'Antonio Campos', 'Dito Montiel',\n",
              "       'Phil Claydon', 'Farren Blackburn', 'Matthias Hoene',\n",
              "       'Robert Rodriguez', 'Jason Friedberg', 'David Bowers',\n",
              "       'Cary Joji Fukunaga', 'Andy Tennant', 'Larry Charles',\n",
              "       'Erik Van Looy', 'Cristian Mungiu', 'Gee Malik Linton',\n",
              "       'Aisling Walsh', 'Luca Guadagnino', 'Tim Johnson',\n",
              "       'Giuseppe Tornatore', 'Nathan Morlando', 'Robert Luketic',\n",
              "       'Mark Osborne', 'Malcolm D. Lee', 'Alexandre Aja', 'Allen Coulter',\n",
              "       'Naoko Yamada', 'Miguel Arteta', 'Steven Knight', 'James Schamus',\n",
              "       'Kyle Patrick Alvarez', 'Hannes Holm', 'James Wong', 'Dan Bradley',\n",
              "       'Greg Berlanti', 'Juan Carlos Fresnadillo', 'Jonathan Levine',\n",
              "       'Hideaki Anno', 'Wally Pfister', 'Carlos Saldanha',\n",
              "       'Drake Doremus', 'Femi Oyeniran', 'Michael Patrick King',\n",
              "       'Peter Landesman', 'Gary Winick', 'Leslye Headland',\n",
              "       'David R. Ellis', 'Michael Dowse', 'José Padilha', 'James Franco',\n",
              "       'Michael Showalter', 'Matteo Garrone', 'Gabor Csupo',\n",
              "       'James Ward Byrkit', 'Hong-jin Na', 'Simon West', 'Gregory Wilson',\n",
              "       'Chris Weitz', 'Neil Marshall', 'Christopher Landon',\n",
              "       'John Erick Dowdle', 'Lee Daniels', 'Gus Van Sant', 'Chris McCoy',\n",
              "       'Craig Brewer', 'R.J. Cutler', 'Ido Fluk', 'Christopher Smith',\n",
              "       'Anna Biller', 'Tom Six', 'Richie Smyth', 'Ryûhei Kitamura',\n",
              "       'David Slade', 'Greg Kwedar', 'Mark Mylod', 'David Twohy',\n",
              "       'Justin Kelly', 'Justin Tipping', 'Alfonso Gomez-Rejon',\n",
              "       'Alexander Payne', 'Jordan Vogt-Roberts', 'Tom Gormican',\n",
              "       'Scott Stewart', 'Patricia Rozema', 'Justin Chadwick',\n",
              "       'Steven R. Monroe', 'James Lapine', 'Jérôme Salle',\n",
              "       'Micheal Bafaro', 'John Luessenhop', 'Wes Craven', 'Mira Nair',\n",
              "       'Gilles Paquet-Brenner', 'Lisa Addario', 'Pedro Almodóvar',\n",
              "       'Patricia Riggen', 'Julie Taymor', 'Luke Greenfield', 'Boaz Yakin',\n",
              "       'Steven Quale', 'Shana Feste', 'Pascal Laugier', 'Ava DuVernay',\n",
              "       'Patrick Tatopoulos', 'Aamir Khan', 'Nima Nourizadeh', 'Billy Ray',\n",
              "       'Scot Armstrong'], dtype=object)"
            ]
          },
          "metadata": {
            "tags": []
          },
          "execution_count": 41
        }
      ]
    },
    {
      "cell_type": "code",
      "metadata": {
        "id": "_sbZ3BHTev4o",
        "colab_type": "code",
        "colab": {
          "base_uri": "https://localhost:8080/",
          "height": 235
        },
        "outputId": "9f338b7e-47b6-441b-f912-ea3b7f710357"
      },
      "source": [
        "data.isnull().sum()"
      ],
      "execution_count": 42,
      "outputs": [
        {
          "output_type": "execute_result",
          "data": {
            "text/plain": [
              "Rank                    0\n",
              "Title                   0\n",
              "Genre                   0\n",
              "Description             0\n",
              "Director                0\n",
              "Actors                  0\n",
              "Year                    0\n",
              "Runtime (Minutes)       0\n",
              "Rating                  0\n",
              "Votes                   0\n",
              "Revenue (Millions)    128\n",
              "Metascore              64\n",
              "dtype: int64"
            ]
          },
          "metadata": {
            "tags": []
          },
          "execution_count": 42
        }
      ]
    },
    {
      "cell_type": "code",
      "metadata": {
        "id": "YOdTPM97fXjs",
        "colab_type": "code",
        "colab": {}
      },
      "source": [
        "data = data.drop(['Metascore'], axis=1)"
      ],
      "execution_count": 43,
      "outputs": []
    },
    {
      "cell_type": "code",
      "metadata": {
        "id": "_qUbia-Pf_00",
        "colab_type": "code",
        "colab": {
          "base_uri": "https://localhost:8080/",
          "height": 296
        },
        "outputId": "76d6c60d-6901-4719-b981-95112f872d33"
      },
      "source": [
        "data.head()"
      ],
      "execution_count": 44,
      "outputs": [
        {
          "output_type": "execute_result",
          "data": {
            "text/html": [
              "<div>\n",
              "<style scoped>\n",
              "    .dataframe tbody tr th:only-of-type {\n",
              "        vertical-align: middle;\n",
              "    }\n",
              "\n",
              "    .dataframe tbody tr th {\n",
              "        vertical-align: top;\n",
              "    }\n",
              "\n",
              "    .dataframe thead th {\n",
              "        text-align: right;\n",
              "    }\n",
              "</style>\n",
              "<table border=\"1\" class=\"dataframe\">\n",
              "  <thead>\n",
              "    <tr style=\"text-align: right;\">\n",
              "      <th></th>\n",
              "      <th>Rank</th>\n",
              "      <th>Title</th>\n",
              "      <th>Genre</th>\n",
              "      <th>Description</th>\n",
              "      <th>Director</th>\n",
              "      <th>Actors</th>\n",
              "      <th>Year</th>\n",
              "      <th>Runtime (Minutes)</th>\n",
              "      <th>Rating</th>\n",
              "      <th>Votes</th>\n",
              "      <th>Revenue (Millions)</th>\n",
              "    </tr>\n",
              "  </thead>\n",
              "  <tbody>\n",
              "    <tr>\n",
              "      <th>0</th>\n",
              "      <td>1</td>\n",
              "      <td>Guardians of the Galaxy</td>\n",
              "      <td>Action,Adventure,Sci-Fi</td>\n",
              "      <td>A group of intergalactic criminals are forced ...</td>\n",
              "      <td>James Gunn</td>\n",
              "      <td>Chris Pratt, Vin Diesel, Bradley Cooper, Zoe S...</td>\n",
              "      <td>2014</td>\n",
              "      <td>121</td>\n",
              "      <td>8.1</td>\n",
              "      <td>757074</td>\n",
              "      <td>333.13</td>\n",
              "    </tr>\n",
              "    <tr>\n",
              "      <th>1</th>\n",
              "      <td>2</td>\n",
              "      <td>Prometheus</td>\n",
              "      <td>Adventure,Mystery,Sci-Fi</td>\n",
              "      <td>Following clues to the origin of mankind, a te...</td>\n",
              "      <td>Ridley Scott</td>\n",
              "      <td>Noomi Rapace, Logan Marshall-Green, Michael Fa...</td>\n",
              "      <td>2012</td>\n",
              "      <td>124</td>\n",
              "      <td>7.0</td>\n",
              "      <td>485820</td>\n",
              "      <td>126.46</td>\n",
              "    </tr>\n",
              "    <tr>\n",
              "      <th>2</th>\n",
              "      <td>3</td>\n",
              "      <td>Split</td>\n",
              "      <td>Horror,Thriller</td>\n",
              "      <td>Three girls are kidnapped by a man with a diag...</td>\n",
              "      <td>M. Night Shyamalan</td>\n",
              "      <td>James McAvoy, Anya Taylor-Joy, Haley Lu Richar...</td>\n",
              "      <td>2016</td>\n",
              "      <td>117</td>\n",
              "      <td>7.3</td>\n",
              "      <td>157606</td>\n",
              "      <td>138.12</td>\n",
              "    </tr>\n",
              "    <tr>\n",
              "      <th>3</th>\n",
              "      <td>4</td>\n",
              "      <td>Sing</td>\n",
              "      <td>Animation,Comedy,Family</td>\n",
              "      <td>In a city of humanoid animals, a hustling thea...</td>\n",
              "      <td>Christophe Lourdelet</td>\n",
              "      <td>Matthew McConaughey,Reese Witherspoon, Seth Ma...</td>\n",
              "      <td>2016</td>\n",
              "      <td>108</td>\n",
              "      <td>7.2</td>\n",
              "      <td>60545</td>\n",
              "      <td>270.32</td>\n",
              "    </tr>\n",
              "    <tr>\n",
              "      <th>4</th>\n",
              "      <td>5</td>\n",
              "      <td>Suicide Squad</td>\n",
              "      <td>Action,Adventure,Fantasy</td>\n",
              "      <td>A secret government agency recruits some of th...</td>\n",
              "      <td>David Ayer</td>\n",
              "      <td>Will Smith, Jared Leto, Margot Robbie, Viola D...</td>\n",
              "      <td>2016</td>\n",
              "      <td>123</td>\n",
              "      <td>6.2</td>\n",
              "      <td>393727</td>\n",
              "      <td>325.02</td>\n",
              "    </tr>\n",
              "  </tbody>\n",
              "</table>\n",
              "</div>"
            ],
            "text/plain": [
              "   Rank                    Title  ...   Votes Revenue (Millions)\n",
              "0     1  Guardians of the Galaxy  ...  757074             333.13\n",
              "1     2               Prometheus  ...  485820             126.46\n",
              "2     3                    Split  ...  157606             138.12\n",
              "3     4                     Sing  ...   60545             270.32\n",
              "4     5            Suicide Squad  ...  393727             325.02\n",
              "\n",
              "[5 rows x 11 columns]"
            ]
          },
          "metadata": {
            "tags": []
          },
          "execution_count": 44
        }
      ]
    },
    {
      "cell_type": "code",
      "metadata": {
        "id": "-AJ2Qpv9gFP-",
        "colab_type": "code",
        "colab": {
          "base_uri": "https://localhost:8080/",
          "height": 218
        },
        "outputId": "7c637af0-73ed-448f-fdba-06b032bd6956"
      },
      "source": [
        "data[\"Genre\"].value_counts()"
      ],
      "execution_count": 45,
      "outputs": [
        {
          "output_type": "execute_result",
          "data": {
            "text/plain": [
              "Action,Adventure,Sci-Fi      50\n",
              "Drama                        48\n",
              "Comedy,Drama,Romance         35\n",
              "Comedy                       32\n",
              "Drama,Romance                31\n",
              "                             ..\n",
              "Adventure,Biography,Crime     1\n",
              "Drama,Family,Music            1\n",
              "Action,Horror                 1\n",
              "Action,Thriller,War           1\n",
              "Adventure,Family              1\n",
              "Name: Genre, Length: 207, dtype: int64"
            ]
          },
          "metadata": {
            "tags": []
          },
          "execution_count": 45
        }
      ]
    },
    {
      "cell_type": "markdown",
      "metadata": {
        "id": "2y2Kpy4bgf1w",
        "colab_type": "text"
      },
      "source": [
        "#for identifying outliers"
      ]
    },
    {
      "cell_type": "markdown",
      "metadata": {
        "id": "fOM4zMg5gYnm",
        "colab_type": "text"
      },
      "source": [
        ""
      ]
    },
    {
      "cell_type": "code",
      "metadata": {
        "id": "PEKEjDKJgnTa",
        "colab_type": "code",
        "colab": {
          "base_uri": "https://localhost:8080/",
          "height": 265
        },
        "outputId": "b66e500f-24a2-46a4-d2b4-8e7541a2aa84"
      },
      "source": [
        "import matplotlib.pyplot as plt\n",
        "y = list(data.Rating)\n",
        "plt.boxplot(y)\n",
        "plt.show()"
      ],
      "execution_count": 46,
      "outputs": [
        {
          "output_type": "display_data",
          "data": {
            "image/png": "[encoded data removed]",
            "text/plain": [
              "<Figure size 432x288 with 1 Axes>"
            ]
          },
          "metadata": {
            "tags": [],
            "needs_background": "light"
          }
        }
      ]
    },
    {
      "cell_type": "markdown",
      "metadata": {
        "id": "ZnHwAgPShRFB",
        "colab_type": "text"
      },
      "source": [
        "#Grouping Data"
      ]
    },
    {
      "cell_type": "code",
      "metadata": {
        "id": "2SSHTwYbhUIr",
        "colab_type": "code",
        "colab": {
          "base_uri": "https://localhost:8080/",
          "height": 431
        },
        "outputId": "c2cf908c-def5-4afa-ec47-629870b2673a"
      },
      "source": [
        "data.groupby(['Genre','Votes']).mean()"
      ],
      "execution_count": 47,
      "outputs": [
        {
          "output_type": "execute_result",
          "data": {
            "text/html": [
              "<div>\n",
              "<style scoped>\n",
              "    .dataframe tbody tr th:only-of-type {\n",
              "        vertical-align: middle;\n",
              "    }\n",
              "\n",
              "    .dataframe tbody tr th {\n",
              "        vertical-align: top;\n",
              "    }\n",
              "\n",
              "    .dataframe thead th {\n",
              "        text-align: right;\n",
              "    }\n",
              "</style>\n",
              "<table border=\"1\" class=\"dataframe\">\n",
              "  <thead>\n",
              "    <tr style=\"text-align: right;\">\n",
              "      <th></th>\n",
              "      <th></th>\n",
              "      <th>Rank</th>\n",
              "      <th>Year</th>\n",
              "      <th>Runtime (Minutes)</th>\n",
              "      <th>Rating</th>\n",
              "      <th>Revenue (Millions)</th>\n",
              "    </tr>\n",
              "    <tr>\n",
              "      <th>Genre</th>\n",
              "      <th>Votes</th>\n",
              "      <th></th>\n",
              "      <th></th>\n",
              "      <th></th>\n",
              "      <th></th>\n",
              "      <th></th>\n",
              "    </tr>\n",
              "  </thead>\n",
              "  <tbody>\n",
              "    <tr>\n",
              "      <th rowspan=\"2\" valign=\"top\">Action</th>\n",
              "      <th>6809</th>\n",
              "      <td>581</td>\n",
              "      <td>2016</td>\n",
              "      <td>90</td>\n",
              "      <td>4.9</td>\n",
              "      <td>131.56</td>\n",
              "    </tr>\n",
              "    <tr>\n",
              "      <th>10428</th>\n",
              "      <td>124</td>\n",
              "      <td>2016</td>\n",
              "      <td>86</td>\n",
              "      <td>7.4</td>\n",
              "      <td>NaN</td>\n",
              "    </tr>\n",
              "    <tr>\n",
              "      <th rowspan=\"3\" valign=\"top\">Action,Adventure</th>\n",
              "      <th>122838</th>\n",
              "      <td>285</td>\n",
              "      <td>2014</td>\n",
              "      <td>98</td>\n",
              "      <td>6.0</td>\n",
              "      <td>72.66</td>\n",
              "    </tr>\n",
              "    <tr>\n",
              "      <th>406219</th>\n",
              "      <td>345</td>\n",
              "      <td>2007</td>\n",
              "      <td>139</td>\n",
              "      <td>6.2</td>\n",
              "      <td>336.53</td>\n",
              "    </tr>\n",
              "    <tr>\n",
              "      <th>474320</th>\n",
              "      <td>369</td>\n",
              "      <td>2012</td>\n",
              "      <td>136</td>\n",
              "      <td>7.0</td>\n",
              "      <td>262.03</td>\n",
              "    </tr>\n",
              "    <tr>\n",
              "      <th>...</th>\n",
              "      <th>...</th>\n",
              "      <td>...</td>\n",
              "      <td>...</td>\n",
              "      <td>...</td>\n",
              "      <td>...</td>\n",
              "      <td>...</td>\n",
              "    </tr>\n",
              "    <tr>\n",
              "      <th rowspan=\"4\" valign=\"top\">Thriller</th>\n",
              "      <th>4204</th>\n",
              "      <td>912</td>\n",
              "      <td>2016</td>\n",
              "      <td>87</td>\n",
              "      <td>4.7</td>\n",
              "      <td>NaN</td>\n",
              "    </tr>\n",
              "    <tr>\n",
              "      <th>4531</th>\n",
              "      <td>445</td>\n",
              "      <td>2016</td>\n",
              "      <td>81</td>\n",
              "      <td>6.0</td>\n",
              "      <td>NaN</td>\n",
              "    </tr>\n",
              "    <tr>\n",
              "      <th>71069</th>\n",
              "      <td>730</td>\n",
              "      <td>2014</td>\n",
              "      <td>100</td>\n",
              "      <td>6.7</td>\n",
              "      <td>0.32</td>\n",
              "    </tr>\n",
              "    <tr>\n",
              "      <th>220236</th>\n",
              "      <td>283</td>\n",
              "      <td>2007</td>\n",
              "      <td>113</td>\n",
              "      <td>7.1</td>\n",
              "      <td>NaN</td>\n",
              "    </tr>\n",
              "    <tr>\n",
              "      <th>Thriller,War</th>\n",
              "      <th>5926</th>\n",
              "      <td>161</td>\n",
              "      <td>2016</td>\n",
              "      <td>106</td>\n",
              "      <td>6.0</td>\n",
              "      <td>NaN</td>\n",
              "    </tr>\n",
              "  </tbody>\n",
              "</table>\n",
              "<p>1000 rows × 5 columns</p>\n",
              "</div>"
            ],
            "text/plain": [
              "                         Rank  Year  ...  Rating  Revenue (Millions)\n",
              "Genre            Votes               ...                            \n",
              "Action           6809     581  2016  ...     4.9              131.56\n",
              "                 10428    124  2016  ...     7.4                 NaN\n",
              "Action,Adventure 122838   285  2014  ...     6.0               72.66\n",
              "                 406219   345  2007  ...     6.2              336.53\n",
              "                 474320   369  2012  ...     7.0              262.03\n",
              "...                       ...   ...  ...     ...                 ...\n",
              "Thriller         4204     912  2016  ...     4.7                 NaN\n",
              "                 4531     445  2016  ...     6.0                 NaN\n",
              "                 71069    730  2014  ...     6.7                0.32\n",
              "                 220236   283  2007  ...     7.1                 NaN\n",
              "Thriller,War     5926     161  2016  ...     6.0                 NaN\n",
              "\n",
              "[1000 rows x 5 columns]"
            ]
          },
          "metadata": {
            "tags": []
          },
          "execution_count": 47
        }
      ]
    },
    {
      "cell_type": "code",
      "metadata": {
        "id": "cR4oLyKRkkxl",
        "colab_type": "code",
        "colab": {
          "base_uri": "https://localhost:8080/",
          "height": 218
        },
        "outputId": "69474c6a-5106-4378-e43e-9454f0467ba1"
      },
      "source": [
        "data[\"Genre\"]"
      ],
      "execution_count": 48,
      "outputs": [
        {
          "output_type": "execute_result",
          "data": {
            "text/plain": [
              "0       Action,Adventure,Sci-Fi\n",
              "1      Adventure,Mystery,Sci-Fi\n",
              "2               Horror,Thriller\n",
              "3       Animation,Comedy,Family\n",
              "4      Action,Adventure,Fantasy\n",
              "                 ...           \n",
              "995         Crime,Drama,Mystery\n",
              "996                      Horror\n",
              "997         Drama,Music,Romance\n",
              "998            Adventure,Comedy\n",
              "999       Comedy,Family,Fantasy\n",
              "Name: Genre, Length: 1000, dtype: object"
            ]
          },
          "metadata": {
            "tags": []
          },
          "execution_count": 48
        }
      ]
    },
    {
      "cell_type": "code",
      "metadata": {
        "id": "gpQxgdxR2AJx",
        "colab_type": "code",
        "colab": {
          "base_uri": "https://localhost:8080/",
          "height": 34
        },
        "outputId": "e768a63a-03ab-4d83-d731-05b2f38a3ce8"
      },
      "source": [
        "# Average runtime of movies\n",
        "data['Runtime (Minutes)'].mean()"
      ],
      "execution_count": 49,
      "outputs": [
        {
          "output_type": "execute_result",
          "data": {
            "text/plain": [
              "113.172"
            ]
          },
          "metadata": {
            "tags": []
          },
          "execution_count": 49
        }
      ]
    },
    {
      "cell_type": "code",
      "metadata": {
        "id": "duQ74wR0ONp7",
        "colab_type": "code",
        "colab": {
          "base_uri": "https://localhost:8080/",
          "height": 34
        },
        "outputId": "d3232b79-9ff9-4980-96e9-c2f05fcc426f"
      },
      "source": [
        "# Average revenue of movies\n",
        "data['Revenue (Millions)'].mean()"
      ],
      "execution_count": 50,
      "outputs": [
        {
          "output_type": "execute_result",
          "data": {
            "text/plain": [
              "82.95637614678897"
            ]
          },
          "metadata": {
            "tags": []
          },
          "execution_count": 50
        }
      ]
    },
    {
      "cell_type": "code",
      "metadata": {
        "id": "WsSkilbT302r",
        "colab_type": "code",
        "colab": {
          "base_uri": "https://localhost:8080/",
          "height": 586
        },
        "outputId": "90bdc2f7-cf98-444a-a26e-6eb897fd5870"
      },
      "source": [
        "#Movies rated above 7\n",
        "\n",
        "data[data['Rating']>=7.0]"
      ],
      "execution_count": 51,
      "outputs": [
        {
          "output_type": "execute_result",
          "data": {
            "text/html": [
              "<div>\n",
              "<style scoped>\n",
              "    .dataframe tbody tr th:only-of-type {\n",
              "        vertical-align: middle;\n",
              "    }\n",
              "\n",
              "    .dataframe tbody tr th {\n",
              "        vertical-align: top;\n",
              "    }\n",
              "\n",
              "    .dataframe thead th {\n",
              "        text-align: right;\n",
              "    }\n",
              "</style>\n",
              "<table border=\"1\" class=\"dataframe\">\n",
              "  <thead>\n",
              "    <tr style=\"text-align: right;\">\n",
              "      <th></th>\n",
              "      <th>Rank</th>\n",
              "      <th>Title</th>\n",
              "      <th>Genre</th>\n",
              "      <th>Description</th>\n",
              "      <th>Director</th>\n",
              "      <th>Actors</th>\n",
              "      <th>Year</th>\n",
              "      <th>Runtime (Minutes)</th>\n",
              "      <th>Rating</th>\n",
              "      <th>Votes</th>\n",
              "      <th>Revenue (Millions)</th>\n",
              "    </tr>\n",
              "  </thead>\n",
              "  <tbody>\n",
              "    <tr>\n",
              "      <th>0</th>\n",
              "      <td>1</td>\n",
              "      <td>Guardians of the Galaxy</td>\n",
              "      <td>Action,Adventure,Sci-Fi</td>\n",
              "      <td>A group of intergalactic criminals are forced ...</td>\n",
              "      <td>James Gunn</td>\n",
              "      <td>Chris Pratt, Vin Diesel, Bradley Cooper, Zoe S...</td>\n",
              "      <td>2014</td>\n",
              "      <td>121</td>\n",
              "      <td>8.1</td>\n",
              "      <td>757074</td>\n",
              "      <td>333.13</td>\n",
              "    </tr>\n",
              "    <tr>\n",
              "      <th>1</th>\n",
              "      <td>2</td>\n",
              "      <td>Prometheus</td>\n",
              "      <td>Adventure,Mystery,Sci-Fi</td>\n",
              "      <td>Following clues to the origin of mankind, a te...</td>\n",
              "      <td>Ridley Scott</td>\n",
              "      <td>Noomi Rapace, Logan Marshall-Green, Michael Fa...</td>\n",
              "      <td>2012</td>\n",
              "      <td>124</td>\n",
              "      <td>7.0</td>\n",
              "      <td>485820</td>\n",
              "      <td>126.46</td>\n",
              "    </tr>\n",
              "    <tr>\n",
              "      <th>2</th>\n",
              "      <td>3</td>\n",
              "      <td>Split</td>\n",
              "      <td>Horror,Thriller</td>\n",
              "      <td>Three girls are kidnapped by a man with a diag...</td>\n",
              "      <td>M. Night Shyamalan</td>\n",
              "      <td>James McAvoy, Anya Taylor-Joy, Haley Lu Richar...</td>\n",
              "      <td>2016</td>\n",
              "      <td>117</td>\n",
              "      <td>7.3</td>\n",
              "      <td>157606</td>\n",
              "      <td>138.12</td>\n",
              "    </tr>\n",
              "    <tr>\n",
              "      <th>3</th>\n",
              "      <td>4</td>\n",
              "      <td>Sing</td>\n",
              "      <td>Animation,Comedy,Family</td>\n",
              "      <td>In a city of humanoid animals, a hustling thea...</td>\n",
              "      <td>Christophe Lourdelet</td>\n",
              "      <td>Matthew McConaughey,Reese Witherspoon, Seth Ma...</td>\n",
              "      <td>2016</td>\n",
              "      <td>108</td>\n",
              "      <td>7.2</td>\n",
              "      <td>60545</td>\n",
              "      <td>270.32</td>\n",
              "    </tr>\n",
              "    <tr>\n",
              "      <th>6</th>\n",
              "      <td>7</td>\n",
              "      <td>La La Land</td>\n",
              "      <td>Comedy,Drama,Music</td>\n",
              "      <td>A jazz pianist falls for an aspiring actress i...</td>\n",
              "      <td>Damien Chazelle</td>\n",
              "      <td>Ryan Gosling, Emma Stone, Rosemarie DeWitt, J....</td>\n",
              "      <td>2016</td>\n",
              "      <td>128</td>\n",
              "      <td>8.3</td>\n",
              "      <td>258682</td>\n",
              "      <td>151.06</td>\n",
              "    </tr>\n",
              "    <tr>\n",
              "      <th>...</th>\n",
              "      <td>...</td>\n",
              "      <td>...</td>\n",
              "      <td>...</td>\n",
              "      <td>...</td>\n",
              "      <td>...</td>\n",
              "      <td>...</td>\n",
              "      <td>...</td>\n",
              "      <td>...</td>\n",
              "      <td>...</td>\n",
              "      <td>...</td>\n",
              "      <td>...</td>\n",
              "    </tr>\n",
              "    <tr>\n",
              "      <th>980</th>\n",
              "      <td>981</td>\n",
              "      <td>Miracles from Heaven</td>\n",
              "      <td>Biography,Drama,Family</td>\n",
              "      <td>A young girl suffering from a rare digestive d...</td>\n",
              "      <td>Patricia Riggen</td>\n",
              "      <td>Jennifer Garner, Kylie Rogers, Martin Henderso...</td>\n",
              "      <td>2016</td>\n",
              "      <td>109</td>\n",
              "      <td>7.0</td>\n",
              "      <td>12048</td>\n",
              "      <td>61.69</td>\n",
              "    </tr>\n",
              "    <tr>\n",
              "      <th>982</th>\n",
              "      <td>983</td>\n",
              "      <td>Across the Universe</td>\n",
              "      <td>Drama,Fantasy,Musical</td>\n",
              "      <td>The music of the Beatles and the Vietnam War f...</td>\n",
              "      <td>Julie Taymor</td>\n",
              "      <td>Evan Rachel Wood, Jim Sturgess, Joe Anderson, ...</td>\n",
              "      <td>2007</td>\n",
              "      <td>133</td>\n",
              "      <td>7.4</td>\n",
              "      <td>95172</td>\n",
              "      <td>24.34</td>\n",
              "    </tr>\n",
              "    <tr>\n",
              "      <th>988</th>\n",
              "      <td>989</td>\n",
              "      <td>Martyrs</td>\n",
              "      <td>Horror</td>\n",
              "      <td>A young woman's quest for revenge against the ...</td>\n",
              "      <td>Pascal Laugier</td>\n",
              "      <td>Morjana Alaoui, Mylène Jampanoï, Catherine Bég...</td>\n",
              "      <td>2008</td>\n",
              "      <td>99</td>\n",
              "      <td>7.1</td>\n",
              "      <td>63785</td>\n",
              "      <td>NaN</td>\n",
              "    </tr>\n",
              "    <tr>\n",
              "      <th>989</th>\n",
              "      <td>990</td>\n",
              "      <td>Selma</td>\n",
              "      <td>Biography,Drama,History</td>\n",
              "      <td>A chronicle of Martin Luther King's campaign t...</td>\n",
              "      <td>Ava DuVernay</td>\n",
              "      <td>David Oyelowo, Carmen Ejogo, Tim Roth, Lorrain...</td>\n",
              "      <td>2014</td>\n",
              "      <td>128</td>\n",
              "      <td>7.5</td>\n",
              "      <td>67637</td>\n",
              "      <td>52.07</td>\n",
              "    </tr>\n",
              "    <tr>\n",
              "      <th>991</th>\n",
              "      <td>992</td>\n",
              "      <td>Taare Zameen Par</td>\n",
              "      <td>Drama,Family,Music</td>\n",
              "      <td>An eight-year-old boy is thought to be a lazy ...</td>\n",
              "      <td>Aamir Khan</td>\n",
              "      <td>Darsheel Safary, Aamir Khan, Tanay Chheda, Sac...</td>\n",
              "      <td>2007</td>\n",
              "      <td>165</td>\n",
              "      <td>8.5</td>\n",
              "      <td>102697</td>\n",
              "      <td>1.20</td>\n",
              "    </tr>\n",
              "  </tbody>\n",
              "</table>\n",
              "<p>445 rows × 11 columns</p>\n",
              "</div>"
            ],
            "text/plain": [
              "     Rank                    Title  ...   Votes Revenue (Millions)\n",
              "0       1  Guardians of the Galaxy  ...  757074             333.13\n",
              "1       2               Prometheus  ...  485820             126.46\n",
              "2       3                    Split  ...  157606             138.12\n",
              "3       4                     Sing  ...   60545             270.32\n",
              "6       7               La La Land  ...  258682             151.06\n",
              "..    ...                      ...  ...     ...                ...\n",
              "980   981     Miracles from Heaven  ...   12048              61.69\n",
              "982   983      Across the Universe  ...   95172              24.34\n",
              "988   989                  Martyrs  ...   63785                NaN\n",
              "989   990                    Selma  ...   67637              52.07\n",
              "991   992         Taare Zameen Par  ...  102697               1.20\n",
              "\n",
              "[445 rows x 11 columns]"
            ]
          },
          "metadata": {
            "tags": []
          },
          "execution_count": 51
        }
      ]
    },
    {
      "cell_type": "code",
      "metadata": {
        "id": "saCu56US5UHz",
        "colab_type": "code",
        "colab": {
          "base_uri": "https://localhost:8080/",
          "height": 616
        },
        "outputId": "565ed021-e528-44d4-ff56-7a19b10370af"
      },
      "source": [
        "# Which years we had the most profitable movies?\n",
        "profits_year = data.groupby('Year')['Revenue (Millions)'].sum()\n",
        "\n",
        "plt.figure(figsize=(10,5), dpi = 130)\n",
        "plt.xlabel('Release Year of Movies')\n",
        "plt.ylabel('Profits earned by Movies')\n",
        "\n",
        "plt.title('Representing Total Profits earned by allmovies Vs Year of their release')\n",
        "\n",
        "plt.plot(profits_year)\n",
        "\n",
        "plt.show()"
      ],
      "execution_count": 52,
      "outputs": [
        {
          "output_type": "display_data",
          "data": {
            "image/png": "[encoded data removed]",
            "text/plain": [
              "<Figure size 1300x650 with 1 Axes>"
            ]
          },
          "metadata": {
            "tags": [],
            "needs_background": "light"
          }
        }
      ]
    },
    {
      "cell_type": "code",
      "metadata": {
        "id": "M1wTs3vF9MKV",
        "colab_type": "code",
        "colab": {
          "base_uri": "https://localhost:8080/",
          "height": 34
        },
        "outputId": "29b43d2d-1067-437c-b713-cca7e9eca19b"
      },
      "source": [
        "# Most profitable year from the given dataset\n",
        "\n",
        "profits_year.idxmax()"
      ],
      "execution_count": 53,
      "outputs": [
        {
          "output_type": "execute_result",
          "data": {
            "text/plain": [
              "2016"
            ]
          },
          "metadata": {
            "tags": []
          },
          "execution_count": 53
        }
      ]
    },
    {
      "cell_type": "code",
      "metadata": {
        "id": "E945TZXv9mNY",
        "colab_type": "code",
        "colab": {
          "base_uri": "https://localhost:8080/",
          "height": 218
        },
        "outputId": "df604057-1655-48a2-8e7d-53972d206904"
      },
      "source": [
        "data['Genre']\n"
      ],
      "execution_count": 54,
      "outputs": [
        {
          "output_type": "execute_result",
          "data": {
            "text/plain": [
              "0       Action,Adventure,Sci-Fi\n",
              "1      Adventure,Mystery,Sci-Fi\n",
              "2               Horror,Thriller\n",
              "3       Animation,Comedy,Family\n",
              "4      Action,Adventure,Fantasy\n",
              "                 ...           \n",
              "995         Crime,Drama,Mystery\n",
              "996                      Horror\n",
              "997         Drama,Music,Romance\n",
              "998            Adventure,Comedy\n",
              "999       Comedy,Family,Fantasy\n",
              "Name: Genre, Length: 1000, dtype: object"
            ]
          },
          "metadata": {
            "tags": []
          },
          "execution_count": 54
        }
      ]
    },
    {
      "cell_type": "code",
      "metadata": {
        "id": "cABamdDK7rqW",
        "colab_type": "code",
        "colab": {
          "base_uri": "https://localhost:8080/",
          "height": 296
        },
        "outputId": "aaccf908-2152-48c8-bd5e-36949b86dc0f"
      },
      "source": [
        "data['Genre']= data['Genre'].str.split(',')\n",
        "data.head()"
      ],
      "execution_count": 55,
      "outputs": [
        {
          "output_type": "execute_result",
          "data": {
            "text/html": [
              "<div>\n",
              "<style scoped>\n",
              "    .dataframe tbody tr th:only-of-type {\n",
              "        vertical-align: middle;\n",
              "    }\n",
              "\n",
              "    .dataframe tbody tr th {\n",
              "        vertical-align: top;\n",
              "    }\n",
              "\n",
              "    .dataframe thead th {\n",
              "        text-align: right;\n",
              "    }\n",
              "</style>\n",
              "<table border=\"1\" class=\"dataframe\">\n",
              "  <thead>\n",
              "    <tr style=\"text-align: right;\">\n",
              "      <th></th>\n",
              "      <th>Rank</th>\n",
              "      <th>Title</th>\n",
              "      <th>Genre</th>\n",
              "      <th>Description</th>\n",
              "      <th>Director</th>\n",
              "      <th>Actors</th>\n",
              "      <th>Year</th>\n",
              "      <th>Runtime (Minutes)</th>\n",
              "      <th>Rating</th>\n",
              "      <th>Votes</th>\n",
              "      <th>Revenue (Millions)</th>\n",
              "    </tr>\n",
              "  </thead>\n",
              "  <tbody>\n",
              "    <tr>\n",
              "      <th>0</th>\n",
              "      <td>1</td>\n",
              "      <td>Guardians of the Galaxy</td>\n",
              "      <td>[Action, Adventure, Sci-Fi]</td>\n",
              "      <td>A group of intergalactic criminals are forced ...</td>\n",
              "      <td>James Gunn</td>\n",
              "      <td>Chris Pratt, Vin Diesel, Bradley Cooper, Zoe S...</td>\n",
              "      <td>2014</td>\n",
              "      <td>121</td>\n",
              "      <td>8.1</td>\n",
              "      <td>757074</td>\n",
              "      <td>333.13</td>\n",
              "    </tr>\n",
              "    <tr>\n",
              "      <th>1</th>\n",
              "      <td>2</td>\n",
              "      <td>Prometheus</td>\n",
              "      <td>[Adventure, Mystery, Sci-Fi]</td>\n",
              "      <td>Following clues to the origin of mankind, a te...</td>\n",
              "      <td>Ridley Scott</td>\n",
              "      <td>Noomi Rapace, Logan Marshall-Green, Michael Fa...</td>\n",
              "      <td>2012</td>\n",
              "      <td>124</td>\n",
              "      <td>7.0</td>\n",
              "      <td>485820</td>\n",
              "      <td>126.46</td>\n",
              "    </tr>\n",
              "    <tr>\n",
              "      <th>2</th>\n",
              "      <td>3</td>\n",
              "      <td>Split</td>\n",
              "      <td>[Horror, Thriller]</td>\n",
              "      <td>Three girls are kidnapped by a man with a diag...</td>\n",
              "      <td>M. Night Shyamalan</td>\n",
              "      <td>James McAvoy, Anya Taylor-Joy, Haley Lu Richar...</td>\n",
              "      <td>2016</td>\n",
              "      <td>117</td>\n",
              "      <td>7.3</td>\n",
              "      <td>157606</td>\n",
              "      <td>138.12</td>\n",
              "    </tr>\n",
              "    <tr>\n",
              "      <th>3</th>\n",
              "      <td>4</td>\n",
              "      <td>Sing</td>\n",
              "      <td>[Animation, Comedy, Family]</td>\n",
              "      <td>In a city of humanoid animals, a hustling thea...</td>\n",
              "      <td>Christophe Lourdelet</td>\n",
              "      <td>Matthew McConaughey,Reese Witherspoon, Seth Ma...</td>\n",
              "      <td>2016</td>\n",
              "      <td>108</td>\n",
              "      <td>7.2</td>\n",
              "      <td>60545</td>\n",
              "      <td>270.32</td>\n",
              "    </tr>\n",
              "    <tr>\n",
              "      <th>4</th>\n",
              "      <td>5</td>\n",
              "      <td>Suicide Squad</td>\n",
              "      <td>[Action, Adventure, Fantasy]</td>\n",
              "      <td>A secret government agency recruits some of th...</td>\n",
              "      <td>David Ayer</td>\n",
              "      <td>Will Smith, Jared Leto, Margot Robbie, Viola D...</td>\n",
              "      <td>2016</td>\n",
              "      <td>123</td>\n",
              "      <td>6.2</td>\n",
              "      <td>393727</td>\n",
              "      <td>325.02</td>\n",
              "    </tr>\n",
              "  </tbody>\n",
              "</table>\n",
              "</div>"
            ],
            "text/plain": [
              "   Rank                    Title  ...   Votes Revenue (Millions)\n",
              "0     1  Guardians of the Galaxy  ...  757074             333.13\n",
              "1     2               Prometheus  ...  485820             126.46\n",
              "2     3                    Split  ...  157606             138.12\n",
              "3     4                     Sing  ...   60545             270.32\n",
              "4     5            Suicide Squad  ...  393727             325.02\n",
              "\n",
              "[5 rows x 11 columns]"
            ]
          },
          "metadata": {
            "tags": []
          },
          "execution_count": 55
        }
      ]
    },
    {
      "cell_type": "code",
      "metadata": {
        "id": "FKU42puK8oLz",
        "colab_type": "code",
        "colab": {}
      },
      "source": [
        "# to plot the frequency of each genre across all the profitable movies, I have created a pandas series which I can plot using the plot.barh() method"
      ],
      "execution_count": 56,
      "outputs": []
    },
    {
      "cell_type": "code",
      "metadata": {
        "id": "lZb55RrS9VNF",
        "colab_type": "code",
        "colab": {
          "base_uri": "https://localhost:8080/",
          "height": 592
        },
        "outputId": "3ce9719e-a1bc-4506-be06-231252edce82"
      },
      "source": [
        "plt.subplots(figsize=(12,10))\n",
        "glist= []\n",
        "\n",
        "for i in data['Genre']:\n",
        "  glist.extend(i)\n",
        "\n",
        "\n",
        "genre_count_series = pd.Series(glist).value_counts()[:10].sort_values(ascending=True)\n",
        "\n",
        "ax = genre_count_series.plot.barh( width=0.9, color=sns.color_palette('summer_r', 10))\n",
        "\n"
      ],
      "execution_count": 57,
      "outputs": [
        {
          "output_type": "display_data",
          "data": {
            "image/png": "[encoded data removed]",
            "text/plain": [
              "<Figure size 864x720 with 1 Axes>"
            ]
          },
          "metadata": {
            "tags": [],
            "needs_background": "light"
          }
        }
      ]
    },
    {
      "cell_type": "code",
      "metadata": {
        "id": "VWUR6BuP_gR5",
        "colab_type": "code",
        "colab": {}
      },
      "source": [
        "# plot for the most frequent cast among the profitable movies"
      ],
      "execution_count": 58,
      "outputs": []
    },
    {
      "cell_type": "code",
      "metadata": {
        "id": "KyUCNjS9ALJ1",
        "colab_type": "code",
        "colab": {
          "base_uri": "https://localhost:8080/",
          "height": 296
        },
        "outputId": "2b10f556-3e75-4253-f58d-aafdb95f07df"
      },
      "source": [
        "data['Actors']= data['Actors'].str.split(',')\n",
        "data.head()"
      ],
      "execution_count": 59,
      "outputs": [
        {
          "output_type": "execute_result",
          "data": {
            "text/html": [
              "<div>\n",
              "<style scoped>\n",
              "    .dataframe tbody tr th:only-of-type {\n",
              "        vertical-align: middle;\n",
              "    }\n",
              "\n",
              "    .dataframe tbody tr th {\n",
              "        vertical-align: top;\n",
              "    }\n",
              "\n",
              "    .dataframe thead th {\n",
              "        text-align: right;\n",
              "    }\n",
              "</style>\n",
              "<table border=\"1\" class=\"dataframe\">\n",
              "  <thead>\n",
              "    <tr style=\"text-align: right;\">\n",
              "      <th></th>\n",
              "      <th>Rank</th>\n",
              "      <th>Title</th>\n",
              "      <th>Genre</th>\n",
              "      <th>Description</th>\n",
              "      <th>Director</th>\n",
              "      <th>Actors</th>\n",
              "      <th>Year</th>\n",
              "      <th>Runtime (Minutes)</th>\n",
              "      <th>Rating</th>\n",
              "      <th>Votes</th>\n",
              "      <th>Revenue (Millions)</th>\n",
              "    </tr>\n",
              "  </thead>\n",
              "  <tbody>\n",
              "    <tr>\n",
              "      <th>0</th>\n",
              "      <td>1</td>\n",
              "      <td>Guardians of the Galaxy</td>\n",
              "      <td>[Action, Adventure, Sci-Fi]</td>\n",
              "      <td>A group of intergalactic criminals are forced ...</td>\n",
              "      <td>James Gunn</td>\n",
              "      <td>[Chris Pratt,  Vin Diesel,  Bradley Cooper,  Z...</td>\n",
              "      <td>2014</td>\n",
              "      <td>121</td>\n",
              "      <td>8.1</td>\n",
              "      <td>757074</td>\n",
              "      <td>333.13</td>\n",
              "    </tr>\n",
              "    <tr>\n",
              "      <th>1</th>\n",
              "      <td>2</td>\n",
              "      <td>Prometheus</td>\n",
              "      <td>[Adventure, Mystery, Sci-Fi]</td>\n",
              "      <td>Following clues to the origin of mankind, a te...</td>\n",
              "      <td>Ridley Scott</td>\n",
              "      <td>[Noomi Rapace,  Logan Marshall-Green,  Michael...</td>\n",
              "      <td>2012</td>\n",
              "      <td>124</td>\n",
              "      <td>7.0</td>\n",
              "      <td>485820</td>\n",
              "      <td>126.46</td>\n",
              "    </tr>\n",
              "    <tr>\n",
              "      <th>2</th>\n",
              "      <td>3</td>\n",
              "      <td>Split</td>\n",
              "      <td>[Horror, Thriller]</td>\n",
              "      <td>Three girls are kidnapped by a man with a diag...</td>\n",
              "      <td>M. Night Shyamalan</td>\n",
              "      <td>[James McAvoy,  Anya Taylor-Joy,  Haley Lu Ric...</td>\n",
              "      <td>2016</td>\n",
              "      <td>117</td>\n",
              "      <td>7.3</td>\n",
              "      <td>157606</td>\n",
              "      <td>138.12</td>\n",
              "    </tr>\n",
              "    <tr>\n",
              "      <th>3</th>\n",
              "      <td>4</td>\n",
              "      <td>Sing</td>\n",
              "      <td>[Animation, Comedy, Family]</td>\n",
              "      <td>In a city of humanoid animals, a hustling thea...</td>\n",
              "      <td>Christophe Lourdelet</td>\n",
              "      <td>[Matthew McConaughey, Reese Witherspoon,  Seth...</td>\n",
              "      <td>2016</td>\n",
              "      <td>108</td>\n",
              "      <td>7.2</td>\n",
              "      <td>60545</td>\n",
              "      <td>270.32</td>\n",
              "    </tr>\n",
              "    <tr>\n",
              "      <th>4</th>\n",
              "      <td>5</td>\n",
              "      <td>Suicide Squad</td>\n",
              "      <td>[Action, Adventure, Fantasy]</td>\n",
              "      <td>A secret government agency recruits some of th...</td>\n",
              "      <td>David Ayer</td>\n",
              "      <td>[Will Smith,  Jared Leto,  Margot Robbie,  Vio...</td>\n",
              "      <td>2016</td>\n",
              "      <td>123</td>\n",
              "      <td>6.2</td>\n",
              "      <td>393727</td>\n",
              "      <td>325.02</td>\n",
              "    </tr>\n",
              "  </tbody>\n",
              "</table>\n",
              "</div>"
            ],
            "text/plain": [
              "   Rank                    Title  ...   Votes Revenue (Millions)\n",
              "0     1  Guardians of the Galaxy  ...  757074             333.13\n",
              "1     2               Prometheus  ...  485820             126.46\n",
              "2     3                    Split  ...  157606             138.12\n",
              "3     4                     Sing  ...   60545             270.32\n",
              "4     5            Suicide Squad  ...  393727             325.02\n",
              "\n",
              "[5 rows x 11 columns]"
            ]
          },
          "metadata": {
            "tags": []
          },
          "execution_count": 59
        }
      ]
    },
    {
      "cell_type": "code",
      "metadata": {
        "id": "2E3_yl5aI7kM",
        "colab_type": "code",
        "colab": {
          "base_uri": "https://localhost:8080/",
          "height": 592
        },
        "outputId": "ddfb325e-1134-4f19-8d05-1b65f5ea09b5"
      },
      "source": [
        "plt.subplots(figsize=(12,10))\n",
        "alist= []\n",
        "\n",
        "for i in data['Actors']:\n",
        "  alist.extend(i)\n",
        "\n",
        "\n",
        "Actors_count_series = pd.Series(alist).value_counts()[:15].sort_values(ascending=True)\n",
        "\n",
        "ax = Actors_count_series.plot.barh(color=sns.color_palette('husl', 15))\n",
        "\n",
        "\n"
      ],
      "execution_count": 60,
      "outputs": [
        {
          "output_type": "display_data",
          "data": {
            "image/png": "[encoded data removed]",
            "text/plain": [
              "<Figure size 864x720 with 1 Axes>"
            ]
          },
          "metadata": {
            "tags": [],
            "needs_background": "light"
          }
        }
      ]
    },
    {
      "cell_type": "code",
      "metadata": {
        "id": "9siuhlffKwMN",
        "colab_type": "code",
        "colab": {
          "base_uri": "https://localhost:8080/",
          "height": 296
        },
        "outputId": "508f63b1-ee35-48e8-e05a-bc9970018bce"
      },
      "source": [
        "data.head()"
      ],
      "execution_count": 61,
      "outputs": [
        {
          "output_type": "execute_result",
          "data": {
            "text/html": [
              "<div>\n",
              "<style scoped>\n",
              "    .dataframe tbody tr th:only-of-type {\n",
              "        vertical-align: middle;\n",
              "    }\n",
              "\n",
              "    .dataframe tbody tr th {\n",
              "        vertical-align: top;\n",
              "    }\n",
              "\n",
              "    .dataframe thead th {\n",
              "        text-align: right;\n",
              "    }\n",
              "</style>\n",
              "<table border=\"1\" class=\"dataframe\">\n",
              "  <thead>\n",
              "    <tr style=\"text-align: right;\">\n",
              "      <th></th>\n",
              "      <th>Rank</th>\n",
              "      <th>Title</th>\n",
              "      <th>Genre</th>\n",
              "      <th>Description</th>\n",
              "      <th>Director</th>\n",
              "      <th>Actors</th>\n",
              "      <th>Year</th>\n",
              "      <th>Runtime (Minutes)</th>\n",
              "      <th>Rating</th>\n",
              "      <th>Votes</th>\n",
              "      <th>Revenue (Millions)</th>\n",
              "    </tr>\n",
              "  </thead>\n",
              "  <tbody>\n",
              "    <tr>\n",
              "      <th>0</th>\n",
              "      <td>1</td>\n",
              "      <td>Guardians of the Galaxy</td>\n",
              "      <td>[Action, Adventure, Sci-Fi]</td>\n",
              "      <td>A group of intergalactic criminals are forced ...</td>\n",
              "      <td>James Gunn</td>\n",
              "      <td>[Chris Pratt,  Vin Diesel,  Bradley Cooper,  Z...</td>\n",
              "      <td>2014</td>\n",
              "      <td>121</td>\n",
              "      <td>8.1</td>\n",
              "      <td>757074</td>\n",
              "      <td>333.13</td>\n",
              "    </tr>\n",
              "    <tr>\n",
              "      <th>1</th>\n",
              "      <td>2</td>\n",
              "      <td>Prometheus</td>\n",
              "      <td>[Adventure, Mystery, Sci-Fi]</td>\n",
              "      <td>Following clues to the origin of mankind, a te...</td>\n",
              "      <td>Ridley Scott</td>\n",
              "      <td>[Noomi Rapace,  Logan Marshall-Green,  Michael...</td>\n",
              "      <td>2012</td>\n",
              "      <td>124</td>\n",
              "      <td>7.0</td>\n",
              "      <td>485820</td>\n",
              "      <td>126.46</td>\n",
              "    </tr>\n",
              "    <tr>\n",
              "      <th>2</th>\n",
              "      <td>3</td>\n",
              "      <td>Split</td>\n",
              "      <td>[Horror, Thriller]</td>\n",
              "      <td>Three girls are kidnapped by a man with a diag...</td>\n",
              "      <td>M. Night Shyamalan</td>\n",
              "      <td>[James McAvoy,  Anya Taylor-Joy,  Haley Lu Ric...</td>\n",
              "      <td>2016</td>\n",
              "      <td>117</td>\n",
              "      <td>7.3</td>\n",
              "      <td>157606</td>\n",
              "      <td>138.12</td>\n",
              "    </tr>\n",
              "    <tr>\n",
              "      <th>3</th>\n",
              "      <td>4</td>\n",
              "      <td>Sing</td>\n",
              "      <td>[Animation, Comedy, Family]</td>\n",
              "      <td>In a city of humanoid animals, a hustling thea...</td>\n",
              "      <td>Christophe Lourdelet</td>\n",
              "      <td>[Matthew McConaughey, Reese Witherspoon,  Seth...</td>\n",
              "      <td>2016</td>\n",
              "      <td>108</td>\n",
              "      <td>7.2</td>\n",
              "      <td>60545</td>\n",
              "      <td>270.32</td>\n",
              "    </tr>\n",
              "    <tr>\n",
              "      <th>4</th>\n",
              "      <td>5</td>\n",
              "      <td>Suicide Squad</td>\n",
              "      <td>[Action, Adventure, Fantasy]</td>\n",
              "      <td>A secret government agency recruits some of th...</td>\n",
              "      <td>David Ayer</td>\n",
              "      <td>[Will Smith,  Jared Leto,  Margot Robbie,  Vio...</td>\n",
              "      <td>2016</td>\n",
              "      <td>123</td>\n",
              "      <td>6.2</td>\n",
              "      <td>393727</td>\n",
              "      <td>325.02</td>\n",
              "    </tr>\n",
              "  </tbody>\n",
              "</table>\n",
              "</div>"
            ],
            "text/plain": [
              "   Rank                    Title  ...   Votes Revenue (Millions)\n",
              "0     1  Guardians of the Galaxy  ...  757074             333.13\n",
              "1     2               Prometheus  ...  485820             126.46\n",
              "2     3                    Split  ...  157606             138.12\n",
              "3     4                     Sing  ...   60545             270.32\n",
              "4     5            Suicide Squad  ...  393727             325.02\n",
              "\n",
              "[5 rows x 11 columns]"
            ]
          },
          "metadata": {
            "tags": []
          },
          "execution_count": 61
        }
      ]
    },
    {
      "cell_type": "code",
      "metadata": {
        "id": "OJl59kKpNUpK",
        "colab_type": "code",
        "colab": {
          "base_uri": "https://localhost:8080/",
          "height": 106
        },
        "outputId": "86d23076-add2-4dcd-80e0-83345fe7616c"
      },
      "source": [
        "#Using the .corr method from pandas, default is Pearson Corellation \n",
        "data[['Votes', 'Revenue (Millions)']].corr()"
      ],
      "execution_count": 64,
      "outputs": [
        {
          "output_type": "execute_result",
          "data": {
            "text/html": [
              "<div>\n",
              "<style scoped>\n",
              "    .dataframe tbody tr th:only-of-type {\n",
              "        vertical-align: middle;\n",
              "    }\n",
              "\n",
              "    .dataframe tbody tr th {\n",
              "        vertical-align: top;\n",
              "    }\n",
              "\n",
              "    .dataframe thead th {\n",
              "        text-align: right;\n",
              "    }\n",
              "</style>\n",
              "<table border=\"1\" class=\"dataframe\">\n",
              "  <thead>\n",
              "    <tr style=\"text-align: right;\">\n",
              "      <th></th>\n",
              "      <th>Votes</th>\n",
              "      <th>Revenue (Millions)</th>\n",
              "    </tr>\n",
              "  </thead>\n",
              "  <tbody>\n",
              "    <tr>\n",
              "      <th>Votes</th>\n",
              "      <td>1.000000</td>\n",
              "      <td>0.639661</td>\n",
              "    </tr>\n",
              "    <tr>\n",
              "      <th>Revenue (Millions)</th>\n",
              "      <td>0.639661</td>\n",
              "      <td>1.000000</td>\n",
              "    </tr>\n",
              "  </tbody>\n",
              "</table>\n",
              "</div>"
            ],
            "text/plain": [
              "                       Votes  Revenue (Millions)\n",
              "Votes               1.000000            0.639661\n",
              "Revenue (Millions)  0.639661            1.000000"
            ]
          },
          "metadata": {
            "tags": []
          },
          "execution_count": 64
        }
      ]
    },
    {
      "cell_type": "code",
      "metadata": {
        "id": "aL1nVyQLiM1l",
        "colab_type": "code",
        "colab": {}
      },
      "source": [
        ""
      ],
      "execution_count": null,
      "outputs": []
    }
  ]
}